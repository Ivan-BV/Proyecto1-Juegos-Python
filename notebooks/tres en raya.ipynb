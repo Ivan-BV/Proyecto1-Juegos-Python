{
 "cells": [
  {
   "cell_type": "markdown",
   "metadata": {},
   "source": [
    "# Tres en raya"
   ]
  },
  {
   "cell_type": "code",
   "execution_count": null,
   "metadata": {},
   "outputs": [],
   "source": [
    "class Tres_en_raya():\n",
    "    def __init__(self):\n",
    "        self.tablero = [['','',''],['','',''],['','','']]\n",
    "\n",
    "    def jugar(self):\n",
    "        while True:\n",
    "            valor = input(\"Introduce o/x: \")\n",
    "            "
   ]
  }
 ],
 "metadata": {
  "language_info": {
   "name": "python"
  }
 },
 "nbformat": 4,
 "nbformat_minor": 2
}
