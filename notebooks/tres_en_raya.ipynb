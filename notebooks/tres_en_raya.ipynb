{
 "cells": [
  {
   "cell_type": "markdown",
   "metadata": {},
   "source": [
    "# Tres en raya"
   ]
  },
  {
   "cell_type": "code",
   "execution_count": 1,
   "metadata": {},
   "outputs": [],
   "source": [
    "class Tres_en_raya():\n",
    "    def __init__(self):\n",
    "        self.tablero = [[' ',' ',' '],[' ',' ',' '],[' ',' ',' ']]\n",
    "        self.fichas = ['X', 'O']\n",
    "        self.turno = 0\n",
    "        self.ficha_jugador = \"\"\n",
    "\n",
    "    def inicializar_tablero(self):\n",
    "        for fila in self.tablero:\n",
    "            for celda in fila:\n",
    "                print(\"\\t\", celda, \"|\", end=\" \")\n",
    "            print(\"\\n\\t\", \"---|---|---\")\n",
    "        \n",
    "        ficha = input(\"Con que ficha quieres jugar X - O: \")\n",
    "        self.ficha_jugador = ficha.strip().upper()\n",
    "\n",
    "\n",
    "    def jugar(self):\n",
    "        while True:\n",
    "            valor = input(\"Con que ficha: \")\n",
    "            "
   ]
  }
 ],
 "metadata": {
  "kernelspec": {
   "display_name": "Python 3",
   "language": "python",
   "name": "python3"
  },
  "language_info": {
   "codemirror_mode": {
    "name": "ipython",
    "version": 3
   },
   "file_extension": ".py",
   "mimetype": "text/x-python",
   "name": "python",
   "nbconvert_exporter": "python",
   "pygments_lexer": "ipython3",
   "version": "3.12.6"
  }
 },
 "nbformat": 4,
 "nbformat_minor": 2
}
