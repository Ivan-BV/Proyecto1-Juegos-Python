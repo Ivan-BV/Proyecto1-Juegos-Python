{
 "cells": [
  {
   "cell_type": "markdown",
   "metadata": {},
   "source": [
    "# Preguntados"
   ]
  },
  {
   "cell_type": "code",
   "execution_count": null,
   "metadata": {},
   "outputs": [],
   "source": [
    "class Preguntados():\n",
    "    def __init__(self):\n",
    "        self.diccionario_preguntas = {\"Pregunta\": \"Respuesta\"}\n",
    "\n",
    "    def jugar(self):\n",
    "        while True:\n",
    "            print(self.diccionario_preguntas[0])\n",
    "            valor = print(\"Introduce respuesta: \")\n",
    "            if valor == self.diccionario_preguntas[0]:\n",
    "                print(\"Es correcto\")\n",
    "            else:\n",
    "                print(\"Es nada\")"
   ]
  }
 ],
 "metadata": {
  "language_info": {
   "name": "python"
  }
 },
 "nbformat": 4,
 "nbformat_minor": 2
}
