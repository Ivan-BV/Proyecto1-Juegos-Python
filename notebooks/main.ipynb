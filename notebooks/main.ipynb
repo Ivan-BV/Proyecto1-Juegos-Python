{
 "cells": [
  {
   "cell_type": "markdown",
   "metadata": {},
   "source": [
    "# Main"
   ]
  },
  {
   "cell_type": "code",
   "execution_count": null,
   "metadata": {},
   "outputs": [
    {
     "name": "stdout",
     "output_type": "stream",
     "text": [
      "\n",
      "\n",
      "¡BIENVENIDO AL JUEGO DEL AHORCADO!\n",
      "\n",
      "\n",
      "Vidas restantes: 5\n",
      "\n",
      "\n",
      "_ _ _ _ _ _ \n",
      "\n"
     ]
    }
   ],
   "source": [
    "from src.ahorcado import Ahorcado\n",
    "\n",
    "def main():\n",
    "    while True:\n",
    "        opcion = input(\"Introduce el juego que quieres jugar:\")\n",
    "        if opcion == \"1\":\n",
    "            Ahorcado.jugar()\n",
    "        if opcion == \"6\":\n",
    "            print(\"Hasta luego\")\n",
    "            break\n",
    "    \n",
    "if __name__ == \"__main__\":\n",
    "    main()"
   ]
  }
 ],
 "metadata": {
  "kernelspec": {
   "display_name": "Python 3",
   "language": "python",
   "name": "python3"
  },
  "language_info": {
   "codemirror_mode": {
    "name": "ipython",
    "version": 3
   },
   "file_extension": ".py",
   "mimetype": "text/x-python",
   "name": "python",
   "nbconvert_exporter": "python",
   "pygments_lexer": "ipython3",
   "version": "3.12.6"
  }
 },
 "nbformat": 4,
 "nbformat_minor": 2
}
