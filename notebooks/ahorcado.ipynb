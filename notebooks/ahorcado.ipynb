{
 "cells": [
  {
   "cell_type": "markdown",
   "metadata": {},
   "source": [
    "# Ahorcado"
   ]
  },
  {
   "cell_type": "code",
   "execution_count": 25,
   "metadata": {},
   "outputs": [
    {
     "name": "stdout",
     "output_type": "stream",
     "text": [
      "_ _ _ Encontradas: 1\n",
      "Len de letras_adivinadas: ['h']\n",
      "Len de letras ['h', 'o', 'y']\n",
      "h _ _ Encontradas: 1\n",
      "Len de letras_adivinadas: ['h', 'o']\n",
      "Len de letras ['h', 'o', 'y']\n",
      "h o _ Encontradas: 1\n",
      "Len de letras_adivinadas: ['h', 'o', 'y']\n",
      "Len de letras ['h', 'o', 'y']\n",
      "Has ganado\n"
     ]
    }
   ],
   "source": [
    "import random\n",
    "from os import system\n",
    "\n",
    "class Ahorcado:\n",
    "    def __init__(self, lista_palabras):\n",
    "        self.lista_palabras = lista_palabras\n",
    "        self.letras = list(lista_palabras[random.randint(0, len(lista_palabras)-1)])\n",
    "        self.letras_adivinadas = []\n",
    "\n",
    "    def tablero(self):\n",
    "        if system.__name__ == \"posix\":\n",
    "            system(\"clear\")\n",
    "        elif system.__name__ == \"ce\" or system.__name__ == \"nt\" or system.__name__ == \"dos\":\n",
    "            system(\"cls\")\n",
    "        for letra in self.letras:\n",
    "            if letra in (self.letras_adivinadas):\n",
    "                print(letra, end=\" \")\n",
    "            else:\n",
    "                print(\"_\", end=\" \")\n",
    "\n",
    "\n",
    "    def comprobar_letra(self, letra):\n",
    "        encontradas = 0\n",
    "        for i in range(len(self.letras)):\n",
    "            if letra == self.letras[i]:\n",
    "                self.letras_adivinadas.append(letra)\n",
    "                encontradas = encontradas + 1\n",
    "        return encontradas\n",
    "\n",
    "\n",
    "    def jugar(self):\n",
    "        while True:\n",
    "            self.tablero()\n",
    "            valor = input(\"Introduce letra: \")\n",
    "            if valor == \"q\":\n",
    "                break\n",
    "            encontradas = self.comprobar_letra(valor)\n",
    "            if encontradas > 0:\n",
    "                print(f\"Encontradas: {encontradas}\")\n",
    "            else:\n",
    "                print(\"Letra no esta dentro\")\n",
    "            print(f\"Len de letras_adivinadas: {self.letras_adivinadas}\")\n",
    "            print(f\"Len de letras {self.letras}\")\n",
    "            if len(self.letras_adivinadas) == len(self.letras):\n",
    "                print(\"Has ganado\")\n",
    "                break\n",
    "            \n",
    "\n",
    "lista_palabras = [\"hola\", \"manolo\", \"hoy\", \"mañana\", \"pasado\"]\n",
    "\n",
    "ahorcado = Ahorcado(lista_palabras)\n",
    "ahorcado.jugar()"
   ]
  }
 ],
 "metadata": {
  "kernelspec": {
   "display_name": "Python 3",
   "language": "python",
   "name": "python3"
  },
  "language_info": {
   "codemirror_mode": {
    "name": "ipython",
    "version": 3
   },
   "file_extension": ".py",
   "mimetype": "text/x-python",
   "name": "python",
   "nbconvert_exporter": "python",
   "pygments_lexer": "ipython3",
   "version": "3.12.6"
  }
 },
 "nbformat": 4,
 "nbformat_minor": 2
}
